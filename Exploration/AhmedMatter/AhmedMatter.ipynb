{
 "cells": [
  {
   "cell_type": "code",
   "execution_count": 1,
   "metadata": {
    "colab": {
     "base_uri": "https://localhost:8080/"
    },
    "executionInfo": {
     "elapsed": 357,
     "status": "ok",
     "timestamp": 1728645250408,
     "user": {
      "displayName": "Omar Abdullah",
      "userId": "03445466138673685278"
     },
     "user_tz": -180
    },
    "id": "ZnD_Wy5B9rlE",
    "outputId": "feadbaf4-ced9-43d6-a948-77902bd4d9fe"
   },
   "outputs": [],
   "source": [
    "#important library\n",
    "import pandas as pd\n",
    "from datetime import date"
   ]
  },
  {
   "cell_type": "code",
   "execution_count": 2,
   "metadata": {
    "colab": {
     "base_uri": "https://localhost:8080/"
    },
    "executionInfo": {
     "elapsed": 357,
     "status": "ok",
     "timestamp": 1728645250408,
     "user": {
      "displayName": "Omar Abdullah",
      "userId": "03445466138673685278"
     },
     "user_tz": -180
    },
    "id": "ZnD_Wy5B9rlE",
    "outputId": "feadbaf4-ced9-43d6-a948-77902bd4d9fe"
   },
   "outputs": [
    {
     "name": "stdout",
     "output_type": "stream",
     "text": [
      "---------------------------------------- ***Start Of Ahmed Matter Part*** ----------------------------------------\n"
     ]
    }
   ],
   "source": [
    "print(\"--\"*20,'***Start Of Ahmed Matter Part***',\"--\"*20)"
   ]
  },
  {
   "cell_type": "code",
   "execution_count": 3,
   "metadata": {
    "colab": {
     "base_uri": "https://localhost:8080/"
    },
    "executionInfo": {
     "elapsed": 357,
     "status": "ok",
     "timestamp": 1728645250408,
     "user": {
      "displayName": "Omar Abdullah",
      "userId": "03445466138673685278"
     },
     "user_tz": -180
    },
    "id": "ZnD_Wy5B9rlE",
    "outputId": "feadbaf4-ced9-43d6-a948-77902bd4d9fe"
   },
   "outputs": [
    {
     "name": "stdout",
     "output_type": "stream",
     "text": [
      "      Row ID        Order ID  Order Date   Ship Date       Ship Mode  \\\n",
      "0          1  CA-2017-152156  08/11/2017  11/11/2017    Second Class   \n",
      "1          2  CA-2017-152156  08/11/2017  11/11/2017    Second Class   \n",
      "2          3  CA-2017-138688  12/06/2017  16/06/2017    Second Class   \n",
      "3          4  US-2016-108966  11/10/2016  18/10/2016  Standard Class   \n",
      "4          5  US-2016-108966  11/10/2016  18/10/2016  Standard Class   \n",
      "...      ...             ...         ...         ...             ...   \n",
      "9795    9796  CA-2017-125920  21/05/2017  28/05/2017  Standard Class   \n",
      "9796    9797  CA-2016-128608  12/01/2016  17/01/2016  Standard Class   \n",
      "9797    9798  CA-2016-128608  12/01/2016  17/01/2016  Standard Class   \n",
      "9798    9799  CA-2016-128608  12/01/2016  17/01/2016  Standard Class   \n",
      "9799    9800  CA-2016-128608  12/01/2016  17/01/2016  Standard Class   \n",
      "\n",
      "     Customer ID     Customer Name    Segment        Country             City  \\\n",
      "0       CG-12520       Claire Gute   Consumer  United States        Henderson   \n",
      "1       CG-12520       Claire Gute   Consumer  United States        Henderson   \n",
      "2       DV-13045   Darrin Van Huff  Corporate  United States      Los Angeles   \n",
      "3       SO-20335    Sean O'Donnell   Consumer  United States  Fort Lauderdale   \n",
      "4       SO-20335    Sean O'Donnell   Consumer  United States  Fort Lauderdale   \n",
      "...          ...               ...        ...            ...              ...   \n",
      "9795    SH-19975     Sally Hughsby  Corporate  United States          Chicago   \n",
      "9796    CS-12490  Cindy Schnelling  Corporate  United States           Toledo   \n",
      "9797    CS-12490  Cindy Schnelling  Corporate  United States           Toledo   \n",
      "9798    CS-12490  Cindy Schnelling  Corporate  United States           Toledo   \n",
      "9799    CS-12490  Cindy Schnelling  Corporate  United States           Toledo   \n",
      "\n",
      "           State  Postal Code   Region       Product ID         Category  \\\n",
      "0       Kentucky      42420.0    South  FUR-BO-10001798        Furniture   \n",
      "1       Kentucky      42420.0    South  FUR-CH-10000454        Furniture   \n",
      "2     California      90036.0     West  OFF-LA-10000240  Office Supplies   \n",
      "3        Florida      33311.0    South  FUR-TA-10000577        Furniture   \n",
      "4        Florida      33311.0    South  OFF-ST-10000760  Office Supplies   \n",
      "...          ...          ...      ...              ...              ...   \n",
      "9795    Illinois      60610.0  Central  OFF-BI-10003429  Office Supplies   \n",
      "9796        Ohio      43615.0     East  OFF-AR-10001374  Office Supplies   \n",
      "9797        Ohio      43615.0     East  TEC-PH-10004977       Technology   \n",
      "9798        Ohio      43615.0     East  TEC-PH-10000912       Technology   \n",
      "9799        Ohio      43615.0     East  TEC-AC-10000487       Technology   \n",
      "\n",
      "     Sub-Category                                       Product Name     Sales  \n",
      "0       Bookcases                  Bush Somerset Collection Bookcase  261.9600  \n",
      "1          Chairs  Hon Deluxe Fabric Upholstered Stacking Chairs,...  731.9400  \n",
      "2          Labels  Self-Adhesive Address Labels for Typewriters b...   14.6200  \n",
      "3          Tables      Bretford CR4500 Series Slim Rectangular Table  957.5775  \n",
      "4         Storage                     Eldon Fold 'N Roll Cart System   22.3680  \n",
      "...           ...                                                ...       ...  \n",
      "9795      Binders  Cardinal HOLDit! Binder Insert Strips,Extra St...    3.7980  \n",
      "9796          Art           BIC Brite Liner Highlighters, Chisel Tip   10.3680  \n",
      "9797       Phones                                        GE 30524EE4  235.1880  \n",
      "9798       Phones           Anker 24W Portable Micro USB Car Charger   26.3760  \n",
      "9799  Accessories                SanDisk Cruzer 4 GB USB Flash Drive   10.3840  \n",
      "\n",
      "[9800 rows x 18 columns]\n"
     ]
    }
   ],
   "source": [
    "#Original Data exploration\n",
    "original_data=pd.read_csv('Data.csv')\n",
    "print(original_data)"
   ]
  },
  {
   "cell_type": "code",
   "execution_count": 4,
   "metadata": {
    "colab": {
     "base_uri": "https://localhost:8080/"
    },
    "executionInfo": {
     "elapsed": 357,
     "status": "ok",
     "timestamp": 1728645250408,
     "user": {
      "displayName": "Omar Abdullah",
      "userId": "03445466138673685278"
     },
     "user_tz": -180
    },
    "id": "ZnD_Wy5B9rlE",
    "outputId": "feadbaf4-ced9-43d6-a948-77902bd4d9fe"
   },
   "outputs": [
    {
     "name": "stdout",
     "output_type": "stream",
     "text": [
      "<class 'pandas.core.frame.DataFrame'>\n",
      "RangeIndex: 9800 entries, 0 to 9799\n",
      "Data columns (total 18 columns):\n",
      " #   Column         Non-Null Count  Dtype  \n",
      "---  ------         --------------  -----  \n",
      " 0   Row ID         9800 non-null   int64  \n",
      " 1   Order ID       9800 non-null   object \n",
      " 2   Order Date     9800 non-null   object \n",
      " 3   Ship Date      9800 non-null   object \n",
      " 4   Ship Mode      9800 non-null   object \n",
      " 5   Customer ID    9800 non-null   object \n",
      " 6   Customer Name  9800 non-null   object \n",
      " 7   Segment        9800 non-null   object \n",
      " 8   Country        9800 non-null   object \n",
      " 9   City           9800 non-null   object \n",
      " 10  State          9800 non-null   object \n",
      " 11  Postal Code    9789 non-null   float64\n",
      " 12  Region         9800 non-null   object \n",
      " 13  Product ID     9800 non-null   object \n",
      " 14  Category       9800 non-null   object \n",
      " 15  Sub-Category   9800 non-null   object \n",
      " 16  Product Name   9800 non-null   object \n",
      " 17  Sales          9800 non-null   float64\n",
      "dtypes: float64(2), int64(1), object(15)\n",
      "memory usage: 1.3+ MB\n",
      "None\n"
     ]
    }
   ],
   "source": [
    "# Display the dataset information\n",
    "df_infoo=original_data.info()\n",
    "print(df_infoo)"
   ]
  },
  {
   "cell_type": "code",
   "execution_count": 5,
   "metadata": {
    "colab": {
     "base_uri": "https://localhost:8080/"
    },
    "executionInfo": {
     "elapsed": 357,
     "status": "ok",
     "timestamp": 1728645250408,
     "user": {
      "displayName": "Omar Abdullah",
      "userId": "03445466138673685278"
     },
     "user_tz": -180
    },
    "id": "ZnD_Wy5B9rlE",
    "outputId": "feadbaf4-ced9-43d6-a948-77902bd4d9fe"
   },
   "outputs": [
    {
     "name": "stdout",
     "output_type": "stream",
     "text": [
      "Row ID            0\n",
      "Order ID          0\n",
      "Order Date        0\n",
      "Ship Date         0\n",
      "Ship Mode         0\n",
      "Customer ID       0\n",
      "Customer Name     0\n",
      "Segment           0\n",
      "Country           0\n",
      "City              0\n",
      "State             0\n",
      "Postal Code      11\n",
      "Region            0\n",
      "Product ID        0\n",
      "Category          0\n",
      "Sub-Category      0\n",
      "Product Name      0\n",
      "Sales             0\n",
      "dtype: int64\n"
     ]
    }
   ],
   "source": [
    "# Display the number of missing values for each column .\n",
    "df_null=original_data.isnull().sum()\n",
    "print(df_null )"
   ]
  },
  {
   "cell_type": "code",
   "execution_count": 6,
   "metadata": {
    "colab": {
     "base_uri": "https://localhost:8080/"
    },
    "executionInfo": {
     "elapsed": 357,
     "status": "ok",
     "timestamp": 1728645250408,
     "user": {
      "displayName": "Omar Abdullah",
      "userId": "03445466138673685278"
     },
     "user_tz": -180
    },
    "id": "ZnD_Wy5B9rlE",
    "outputId": "feadbaf4-ced9-43d6-a948-77902bd4d9fe"
   },
   "outputs": [
    {
     "name": "stdout",
     "output_type": "stream",
     "text": [
      "The num of dublicated value is : \n",
      "\n",
      "Empty DataFrame\n",
      "Columns: [Row ID, Order ID, Order Date, Ship Date, Ship Mode, Customer ID, Customer Name, Segment, Country, City, State, Postal Code, Region, Product ID, Category, Sub-Category, Product Name, Sales]\n",
      "Index: []\n"
     ]
    }
   ],
   "source": [
    "#display duplicate values\n",
    "df_dubli=original_data[original_data.duplicated()]\n",
    "print('The num of dublicated value is : \\n')\n",
    "print(df_dubli)"
   ]
  },
  {
   "cell_type": "code",
   "execution_count": 7,
   "metadata": {
    "colab": {
     "base_uri": "https://localhost:8080/"
    },
    "executionInfo": {
     "elapsed": 357,
     "status": "ok",
     "timestamp": 1728645250408,
     "user": {
      "displayName": "Omar Abdullah",
      "userId": "03445466138673685278"
     },
     "user_tz": -180
    },
    "id": "ZnD_Wy5B9rlE",
    "outputId": "feadbaf4-ced9-43d6-a948-77902bd4d9fe"
   },
   "outputs": [
    {
     "name": "stdout",
     "output_type": "stream",
     "text": [
      "            Row ID   Postal Code         Sales\n",
      "count  9800.000000   9789.000000   9800.000000\n",
      "mean   4900.500000  55273.322403    230.769059\n",
      "std    2829.160653  32041.223413    626.651875\n",
      "min       1.000000   1040.000000      0.444000\n",
      "25%    2450.750000  23223.000000     17.248000\n",
      "50%    4900.500000  58103.000000     54.490000\n",
      "75%    7350.250000  90008.000000    210.605000\n",
      "max    9800.000000  99301.000000  22638.480000\n"
     ]
    }
   ],
   "source": [
    "#display Some statistical operations\n",
    "df_summary=original_data.describe()\n",
    "print(df_summary)"
   ]
  },
  {
   "cell_type": "code",
   "execution_count": 8,
   "metadata": {
    "colab": {
     "base_uri": "https://localhost:8080/"
    },
    "executionInfo": {
     "elapsed": 357,
     "status": "ok",
     "timestamp": 1728645250408,
     "user": {
      "displayName": "Omar Abdullah",
      "userId": "03445466138673685278"
     },
     "user_tz": -180
    },
    "id": "ZnD_Wy5B9rlE",
    "outputId": "feadbaf4-ced9-43d6-a948-77902bd4d9fe"
   },
   "outputs": [
    {
     "name": "stdout",
     "output_type": "stream",
     "text": [
      "The Unique Values For Each Col Is :>> \n",
      " Row ID           9800\n",
      "Order ID         4922\n",
      "Order Date       1230\n",
      "Ship Date        1326\n",
      "Ship Mode           4\n",
      "Customer ID       793\n",
      "Customer Name     793\n",
      "Segment             3\n",
      "Country             1\n",
      "City              529\n",
      "State              49\n",
      "Postal Code       626\n",
      "Region              4\n",
      "Product ID       1861\n",
      "Category            3\n",
      "Sub-Category       17\n",
      "Product Name     1849\n",
      "Sales            5757\n",
      "dtype: int64\n"
     ]
    }
   ],
   "source": [
    "#count of unique value for all col\n",
    "print('The Unique Values For Each Col Is :>> \\n',original_data.nunique())"
   ]
  },
  {
   "cell_type": "code",
   "execution_count": 9,
   "metadata": {
    "colab": {
     "base_uri": "https://localhost:8080/"
    },
    "executionInfo": {
     "elapsed": 357,
     "status": "ok",
     "timestamp": 1728645250408,
     "user": {
      "displayName": "Omar Abdullah",
      "userId": "03445466138673685278"
     },
     "user_tz": -180
    },
    "id": "ZnD_Wy5B9rlE",
    "outputId": "feadbaf4-ced9-43d6-a948-77902bd4d9fe"
   },
   "outputs": [],
   "source": [
    "#formula to Split date col\n",
    "def seprate_values(col):\n",
    "    new_cols=(original_data[col].str.split('/', expand=True).rename(columns=lambda x: f\"{col}_{x+1}\"))\n",
    "    return new_cols"
   ]
  },
  {
   "cell_type": "code",
   "execution_count": 10,
   "metadata": {
    "colab": {
     "base_uri": "https://localhost:8080/"
    },
    "executionInfo": {
     "elapsed": 357,
     "status": "ok",
     "timestamp": 1728645250408,
     "user": {
      "displayName": "Omar Abdullah",
      "userId": "03445466138673685278"
     },
     "user_tz": -180
    },
    "id": "ZnD_Wy5B9rlE",
    "outputId": "feadbaf4-ced9-43d6-a948-77902bd4d9fe"
   },
   "outputs": [
    {
     "name": "stdout",
     "output_type": "stream",
     "text": [
      "     Order Date_1 Order Date_2 Order Date_3\n",
      "0              08           11         2017\n",
      "1              08           11         2017\n",
      "2              12           06         2017\n",
      "3              11           10         2016\n",
      "4              11           10         2016\n",
      "...           ...          ...          ...\n",
      "9795           21           05         2017\n",
      "9796           12           01         2016\n",
      "9797           12           01         2016\n",
      "9798           12           01         2016\n",
      "9799           12           01         2016\n",
      "\n",
      "[9800 rows x 3 columns]\n"
     ]
    }
   ],
   "source": [
    "#split order date to get year col\n",
    "df_ordrdte=seprate_values('Order Date')\n",
    "print(df_ordrdte)"
   ]
  },
  {
   "cell_type": "code",
   "execution_count": 11,
   "metadata": {
    "colab": {
     "base_uri": "https://localhost:8080/"
    },
    "executionInfo": {
     "elapsed": 357,
     "status": "ok",
     "timestamp": 1728645250408,
     "user": {
      "displayName": "Omar Abdullah",
      "userId": "03445466138673685278"
     },
     "user_tz": -180
    },
    "id": "ZnD_Wy5B9rlE",
    "outputId": "feadbaf4-ced9-43d6-a948-77902bd4d9fe"
   },
   "outputs": [
    {
     "name": "stdout",
     "output_type": "stream",
     "text": [
      "     Ship Date_1 Ship Date_2 Ship Date_3\n",
      "0             11          11        2017\n",
      "1             11          11        2017\n",
      "2             16          06        2017\n",
      "3             18          10        2016\n",
      "4             18          10        2016\n",
      "...          ...         ...         ...\n",
      "9795          28          05        2017\n",
      "9796          17          01        2016\n",
      "9797          17          01        2016\n",
      "9798          17          01        2016\n",
      "9799          17          01        2016\n",
      "\n",
      "[9800 rows x 3 columns]\n"
     ]
    }
   ],
   "source": [
    "#split Ship date to get year col\n",
    "df_shipdte=seprate_values('Ship Date')\n",
    "print(df_shipdte)"
   ]
  },
  {
   "cell_type": "code",
   "execution_count": 12,
   "metadata": {
    "colab": {
     "base_uri": "https://localhost:8080/"
    },
    "executionInfo": {
     "elapsed": 357,
     "status": "ok",
     "timestamp": 1728645250408,
     "user": {
      "displayName": "Omar Abdullah",
      "userId": "03445466138673685278"
     },
     "user_tz": -180
    },
    "id": "ZnD_Wy5B9rlE",
    "outputId": "feadbaf4-ced9-43d6-a948-77902bd4d9fe"
   },
   "outputs": [
    {
     "name": "stdout",
     "output_type": "stream",
     "text": [
      "our data talks about  4  order years : >>  ['2017' '2016' '2015' '2018']\n"
     ]
    }
   ],
   "source": [
    "#unique ordr years\n",
    "uni_years=df_ordrdte['Order Date_3'].unique()\n",
    "print('our data talks about ',df_ordrdte['Order Date_3'].nunique(),' order years : >> ',uni_years)"
   ]
  },
  {
   "cell_type": "code",
   "execution_count": 13,
   "metadata": {
    "colab": {
     "base_uri": "https://localhost:8080/"
    },
    "executionInfo": {
     "elapsed": 357,
     "status": "ok",
     "timestamp": 1728645250408,
     "user": {
      "displayName": "Omar Abdullah",
      "userId": "03445466138673685278"
     },
     "user_tz": -180
    },
    "id": "ZnD_Wy5B9rlE",
    "outputId": "feadbaf4-ced9-43d6-a948-77902bd4d9fe"
   },
   "outputs": [
    {
     "name": "stdout",
     "output_type": "stream",
     "text": [
      "our data talks about  5  ship years : >>  ['2017' '2016' '2015' '2018' '2019']\n"
     ]
    }
   ],
   "source": [
    "#unique Ship years\n",
    "uni_shpyears=df_shipdte['Ship Date_3'].unique()\n",
    "print('our data talks about ',df_shipdte['Ship Date_3'].nunique(),' ship years : >> ',uni_shpyears)"
   ]
  },
  {
   "cell_type": "code",
   "execution_count": 14,
   "metadata": {
    "colab": {
     "base_uri": "https://localhost:8080/"
    },
    "executionInfo": {
     "elapsed": 357,
     "status": "ok",
     "timestamp": 1728645250408,
     "user": {
      "displayName": "Omar Abdullah",
      "userId": "03445466138673685278"
     },
     "user_tz": -180
    },
    "id": "ZnD_Wy5B9rlE",
    "outputId": "feadbaf4-ced9-43d6-a948-77902bd4d9fe"
   },
   "outputs": [
    {
     "name": "stdout",
     "output_type": "stream",
     "text": [
      "we have  793 Customers\n"
     ]
    }
   ],
   "source": [
    "#unique customers\n",
    "uni_cust=original_data['Customer ID'].nunique()\n",
    "print('we have ',uni_cust,'Customers')"
   ]
  },
  {
   "cell_type": "code",
   "execution_count": 15,
   "metadata": {
    "colab": {
     "base_uri": "https://localhost:8080/"
    },
    "executionInfo": {
     "elapsed": 357,
     "status": "ok",
     "timestamp": 1728645250408,
     "user": {
      "displayName": "Omar Abdullah",
      "userId": "03445466138673685278"
     },
     "user_tz": -180
    },
    "id": "ZnD_Wy5B9rlE",
    "outputId": "feadbaf4-ced9-43d6-a948-77902bd4d9fe"
   },
   "outputs": [
    {
     "name": "stdout",
     "output_type": "stream",
     "text": [
      "we have  4922 Invoice(Order ID)\n"
     ]
    }
   ],
   "source": [
    "#unique Orders(Invoices)\n",
    "uni_invoice=original_data['Order ID'].nunique()\n",
    "print('we have ',uni_invoice,'Invoice(Order ID)')"
   ]
  },
  {
   "cell_type": "code",
   "execution_count": 16,
   "metadata": {
    "colab": {
     "base_uri": "https://localhost:8080/"
    },
    "executionInfo": {
     "elapsed": 357,
     "status": "ok",
     "timestamp": 1728645250408,
     "user": {
      "displayName": "Omar Abdullah",
      "userId": "03445466138673685278"
     },
     "user_tz": -180
    },
    "id": "ZnD_Wy5B9rlE",
    "outputId": "feadbaf4-ced9-43d6-a948-77902bd4d9fe"
   },
   "outputs": [
    {
     "name": "stdout",
     "output_type": "stream",
     "text": [
      "we have  4 ship modes : >>  ['Second Class' 'Standard Class' 'First Class' 'Same Day']\n"
     ]
    }
   ],
   "source": [
    "#unique ship methods\n",
    "uni_shipmode=original_data['Ship Mode'].unique()\n",
    "print('we have ',original_data['Ship Mode'].nunique(),'ship modes : >> ',uni_shipmode)"
   ]
  },
  {
   "cell_type": "code",
   "execution_count": 17,
   "metadata": {
    "colab": {
     "base_uri": "https://localhost:8080/"
    },
    "executionInfo": {
     "elapsed": 357,
     "status": "ok",
     "timestamp": 1728645250408,
     "user": {
      "displayName": "Omar Abdullah",
      "userId": "03445466138673685278"
     },
     "user_tz": -180
    },
    "id": "ZnD_Wy5B9rlE",
    "outputId": "feadbaf4-ced9-43d6-a948-77902bd4d9fe"
   },
   "outputs": [
    {
     "name": "stdout",
     "output_type": "stream",
     "text": [
      "we have  3  Customer segmentations : >>  ['Consumer' 'Corporate' 'Home Office']\n"
     ]
    }
   ],
   "source": [
    "#unique Customer segmentation\n",
    "uni_custseg=original_data['Segment'].unique()\n",
    "print('we have ',original_data['Segment'].nunique(),' Customer segmentations : >> ',uni_custseg)"
   ]
  },
  {
   "cell_type": "code",
   "execution_count": 18,
   "metadata": {
    "colab": {
     "base_uri": "https://localhost:8080/"
    },
    "executionInfo": {
     "elapsed": 357,
     "status": "ok",
     "timestamp": 1728645250408,
     "user": {
      "displayName": "Omar Abdullah",
      "userId": "03445466138673685278"
     },
     "user_tz": -180
    },
    "id": "ZnD_Wy5B9rlE",
    "outputId": "feadbaf4-ced9-43d6-a948-77902bd4d9fe"
   },
   "outputs": [
    {
     "name": "stdout",
     "output_type": "stream",
     "text": [
      "we have  529  City\n"
     ]
    }
   ],
   "source": [
    "#unique City\n",
    "uni_city=original_data['City'].nunique()\n",
    "print('we have ',uni_city,' City')"
   ]
  },
  {
   "cell_type": "code",
   "execution_count": 19,
   "metadata": {
    "colab": {
     "base_uri": "https://localhost:8080/"
    },
    "executionInfo": {
     "elapsed": 357,
     "status": "ok",
     "timestamp": 1728645250408,
     "user": {
      "displayName": "Omar Abdullah",
      "userId": "03445466138673685278"
     },
     "user_tz": -180
    },
    "id": "ZnD_Wy5B9rlE",
    "outputId": "feadbaf4-ced9-43d6-a948-77902bd4d9fe"
   },
   "outputs": [
    {
     "name": "stdout",
     "output_type": "stream",
     "text": [
      "we have  1  Country : >>  ['United States']\n"
     ]
    }
   ],
   "source": [
    "#unique Country\n",
    "uni_country=original_data['Country'].unique()\n",
    "print('we have ',original_data['Country'].nunique(),' Country : >> ',uni_country)"
   ]
  },
  {
   "cell_type": "code",
   "execution_count": 20,
   "metadata": {
    "colab": {
     "base_uri": "https://localhost:8080/"
    },
    "executionInfo": {
     "elapsed": 357,
     "status": "ok",
     "timestamp": 1728645250408,
     "user": {
      "displayName": "Omar Abdullah",
      "userId": "03445466138673685278"
     },
     "user_tz": -180
    },
    "id": "ZnD_Wy5B9rlE",
    "outputId": "feadbaf4-ced9-43d6-a948-77902bd4d9fe"
   },
   "outputs": [
    {
     "name": "stdout",
     "output_type": "stream",
     "text": [
      "we have  49  state\n"
     ]
    }
   ],
   "source": [
    "#unique state\n",
    "uni_state=original_data['State'].nunique()\n",
    "print('we have ',uni_state,' state')"
   ]
  },
  {
   "cell_type": "code",
   "execution_count": 21,
   "metadata": {
    "colab": {
     "base_uri": "https://localhost:8080/"
    },
    "executionInfo": {
     "elapsed": 357,
     "status": "ok",
     "timestamp": 1728645250408,
     "user": {
      "displayName": "Omar Abdullah",
      "userId": "03445466138673685278"
     },
     "user_tz": -180
    },
    "id": "ZnD_Wy5B9rlE",
    "outputId": "feadbaf4-ced9-43d6-a948-77902bd4d9fe"
   },
   "outputs": [
    {
     "name": "stdout",
     "output_type": "stream",
     "text": [
      "we have  4  region : >>  ['South' 'West' 'Central' 'East']\n"
     ]
    }
   ],
   "source": [
    "#unique Region\n",
    "uni_region=original_data['Region'].unique()\n",
    "print('we have ',original_data['Region'].nunique(),' region : >> ',uni_region)"
   ]
  },
  {
   "cell_type": "code",
   "execution_count": 22,
   "metadata": {
    "colab": {
     "base_uri": "https://localhost:8080/"
    },
    "executionInfo": {
     "elapsed": 357,
     "status": "ok",
     "timestamp": 1728645250408,
     "user": {
      "displayName": "Omar Abdullah",
      "userId": "03445466138673685278"
     },
     "user_tz": -180
    },
    "id": "ZnD_Wy5B9rlE",
    "outputId": "feadbaf4-ced9-43d6-a948-77902bd4d9fe"
   },
   "outputs": [
    {
     "name": "stdout",
     "output_type": "stream",
     "text": [
      "we have  3  Category : >>  ['Furniture' 'Office Supplies' 'Technology']\n"
     ]
    }
   ],
   "source": [
    "#unique category\n",
    "uni_category=original_data['Category'].unique()\n",
    "print('we have ',original_data['Category'].nunique(),' Category : >> ',uni_category)"
   ]
  },
  {
   "cell_type": "code",
   "execution_count": 23,
   "metadata": {
    "colab": {
     "base_uri": "https://localhost:8080/"
    },
    "executionInfo": {
     "elapsed": 357,
     "status": "ok",
     "timestamp": 1728645250408,
     "user": {
      "displayName": "Omar Abdullah",
      "userId": "03445466138673685278"
     },
     "user_tz": -180
    },
    "id": "ZnD_Wy5B9rlE",
    "outputId": "feadbaf4-ced9-43d6-a948-77902bd4d9fe"
   },
   "outputs": [
    {
     "name": "stdout",
     "output_type": "stream",
     "text": [
      "we have  17  Sub Category\n"
     ]
    }
   ],
   "source": [
    "#unique subcategory\n",
    "uni_subcat=original_data['Sub-Category'].nunique()\n",
    "print('we have ',uni_subcat,' Sub Category')"
   ]
  },
  {
   "cell_type": "code",
   "execution_count": 24,
   "metadata": {
    "colab": {
     "base_uri": "https://localhost:8080/"
    },
    "executionInfo": {
     "elapsed": 357,
     "status": "ok",
     "timestamp": 1728645250408,
     "user": {
      "displayName": "Omar Abdullah",
      "userId": "03445466138673685278"
     },
     "user_tz": -180
    },
    "id": "ZnD_Wy5B9rlE",
    "outputId": "feadbaf4-ced9-43d6-a948-77902bd4d9fe"
   },
   "outputs": [
    {
     "name": "stdout",
     "output_type": "stream",
     "text": [
      "The most common category is : >> 0    Office Supplies\n",
      "Name: Category, dtype: object\n"
     ]
    }
   ],
   "source": [
    "#Common Category\n",
    "print('The most common category is : >>',original_data['Category'].mode())"
   ]
  },
  {
   "cell_type": "code",
   "execution_count": 25,
   "metadata": {
    "colab": {
     "base_uri": "https://localhost:8080/"
    },
    "executionInfo": {
     "elapsed": 357,
     "status": "ok",
     "timestamp": 1728645250408,
     "user": {
      "displayName": "Omar Abdullah",
      "userId": "03445466138673685278"
     },
     "user_tz": -180
    },
    "id": "ZnD_Wy5B9rlE",
    "outputId": "feadbaf4-ced9-43d6-a948-77902bd4d9fe"
   },
   "outputs": [
    {
     "name": "stdout",
     "output_type": "stream",
     "text": [
      "The most common sub category is : >> 0    Binders\n",
      "Name: Sub-Category, dtype: object\n"
     ]
    }
   ],
   "source": [
    "#Common Sub Category\n",
    "print('The most common sub category is : >>',original_data['Sub-Category'].mode())"
   ]
  },
  {
   "cell_type": "code",
   "execution_count": 26,
   "metadata": {
    "colab": {
     "base_uri": "https://localhost:8080/"
    },
    "executionInfo": {
     "elapsed": 357,
     "status": "ok",
     "timestamp": 1728645250408,
     "user": {
      "displayName": "Omar Abdullah",
      "userId": "03445466138673685278"
     },
     "user_tz": -180
    },
    "id": "ZnD_Wy5B9rlE",
    "outputId": "feadbaf4-ced9-43d6-a948-77902bd4d9fe"
   },
   "outputs": [
    {
     "name": "stdout",
     "output_type": "stream",
     "text": [
      "The most common Customer Segment is : >> 0    Consumer\n",
      "Name: Segment, dtype: object\n"
     ]
    }
   ],
   "source": [
    "#Most Valuable Csutomer Segmentation\n",
    "print('The most common Customer Segment is : >>',original_data['Segment'].mode())"
   ]
  },
  {
   "cell_type": "code",
   "execution_count": 27,
   "metadata": {
    "colab": {
     "base_uri": "https://localhost:8080/"
    },
    "executionInfo": {
     "elapsed": 357,
     "status": "ok",
     "timestamp": 1728645250408,
     "user": {
      "displayName": "Omar Abdullah",
      "userId": "03445466138673685278"
     },
     "user_tz": -180
    },
    "id": "ZnD_Wy5B9rlE",
    "outputId": "feadbaf4-ced9-43d6-a948-77902bd4d9fe"
   },
   "outputs": [
    {
     "name": "stdout",
     "output_type": "stream",
     "text": [
      "The Highest Demand Product  is : >> 0    Staple envelope\n",
      "Name: Product Name, dtype: object\n"
     ]
    }
   ],
   "source": [
    "#Most Demand Product\n",
    "print('The Highest Demand Product  is : >>',original_data['Product Name'].mode())"
   ]
  },
  {
   "cell_type": "code",
   "execution_count": 28,
   "metadata": {
    "colab": {
     "base_uri": "https://localhost:8080/"
    },
    "executionInfo": {
     "elapsed": 357,
     "status": "ok",
     "timestamp": 1728645250408,
     "user": {
      "displayName": "Omar Abdullah",
      "userId": "03445466138673685278"
     },
     "user_tz": -180
    },
    "id": "ZnD_Wy5B9rlE",
    "outputId": "feadbaf4-ced9-43d6-a948-77902bd4d9fe"
   },
   "outputs": [
    {
     "name": "stdout",
     "output_type": "stream",
     "text": [
      "The most common City is : >> 0    New York City\n",
      "Name: City, dtype: object\n"
     ]
    }
   ],
   "source": [
    "#Most Common City\n",
    "print('The most common City is : >>',original_data['City'].mode())"
   ]
  },
  {
   "cell_type": "code",
   "execution_count": 29,
   "metadata": {
    "colab": {
     "base_uri": "https://localhost:8080/"
    },
    "executionInfo": {
     "elapsed": 357,
     "status": "ok",
     "timestamp": 1728645250408,
     "user": {
      "displayName": "Omar Abdullah",
      "userId": "03445466138673685278"
     },
     "user_tz": -180
    },
    "id": "ZnD_Wy5B9rlE",
    "outputId": "feadbaf4-ced9-43d6-a948-77902bd4d9fe"
   },
   "outputs": [
    {
     "name": "stdout",
     "output_type": "stream",
     "text": [
      "The most common Ship Mode is : >> 0    Standard Class\n",
      "Name: Ship Mode, dtype: object\n"
     ]
    }
   ],
   "source": [
    "#Most Common Ship mode\n",
    "print('The most common Ship Mode is : >>',original_data['Ship Mode'].mode())"
   ]
  },
  {
   "cell_type": "code",
   "execution_count": 30,
   "metadata": {
    "colab": {
     "base_uri": "https://localhost:8080/"
    },
    "executionInfo": {
     "elapsed": 357,
     "status": "ok",
     "timestamp": 1728645250408,
     "user": {
      "displayName": "Omar Abdullah",
      "userId": "03445466138673685278"
     },
     "user_tz": -180
    },
    "id": "ZnD_Wy5B9rlE",
    "outputId": "feadbaf4-ced9-43d6-a948-77902bd4d9fe"
   },
   "outputs": [
    {
     "name": "stdout",
     "output_type": "stream",
     "text": [
      "The Highest Value Customer is : >> 0    William Brown\n",
      "Name: Customer Name, dtype: object\n"
     ]
    }
   ],
   "source": [
    "#Highest Value Customer\n",
    "print('The Highest Value Customer is : >>',original_data['Customer Name'].mode())"
   ]
  },
  {
   "cell_type": "code",
   "execution_count": 31,
   "metadata": {
    "colab": {
     "base_uri": "https://localhost:8080/"
    },
    "executionInfo": {
     "elapsed": 357,
     "status": "ok",
     "timestamp": 1728645250408,
     "user": {
      "displayName": "Omar Abdullah",
      "userId": "03445466138673685278"
     },
     "user_tz": -180
    },
    "id": "ZnD_Wy5B9rlE",
    "outputId": "feadbaf4-ced9-43d6-a948-77902bd4d9fe"
   },
   "outputs": [
    {
     "name": "stdout",
     "output_type": "stream",
     "text": [
      "The Total Sales equal  >> $ 2,261,537.00\n"
     ]
    }
   ],
   "source": [
    "#Total Sales\n",
    "print('The Total Sales equal  >>','$',f\"{(original_data['Sales'].sum()).round():,.2f}\")"
   ]
  },
  {
   "cell_type": "code",
   "execution_count": 32,
   "metadata": {
    "colab": {
     "base_uri": "https://localhost:8080/"
    },
    "executionInfo": {
     "elapsed": 357,
     "status": "ok",
     "timestamp": 1728645250408,
     "user": {
      "displayName": "Omar Abdullah",
      "userId": "03445466138673685278"
     },
     "user_tz": -180
    },
    "id": "ZnD_Wy5B9rlE",
    "outputId": "feadbaf4-ced9-43d6-a948-77902bd4d9fe"
   },
   "outputs": [],
   "source": [
    "#Uni Prod Id & Prod Name\n",
    "uni_prodid=original_data['Product ID'].nunique()\n",
    "uni_prodnam=original_data['Product Name'].nunique()"
   ]
  },
  {
   "cell_type": "code",
   "execution_count": 33,
   "metadata": {
    "colab": {
     "base_uri": "https://localhost:8080/"
    },
    "executionInfo": {
     "elapsed": 357,
     "status": "ok",
     "timestamp": 1728645250408,
     "user": {
      "displayName": "Omar Abdullah",
      "userId": "03445466138673685278"
     },
     "user_tz": -180
    },
    "id": "ZnD_Wy5B9rlE",
    "outputId": "feadbaf4-ced9-43d6-a948-77902bd4d9fe"
   },
   "outputs": [
    {
     "name": "stdout",
     "output_type": "stream",
     "text": [
      "------------------------------------------------------------ ****APPLIED STEPS**** ------------------------------------------------------------\n",
      "  1-Explore Data Frame Using Pandas\n",
      "\n",
      "  2-Display the dataset information\n",
      "\n",
      "  3-Display the number of missing values for each column(Check Null Values)--->Postal Code Only 11 Null (Unused Col)\n",
      "\n",
      "  4-Display duplicate values(Check For Dublicates)----> No Dublicates Found\n",
      "\n",
      "  5-Display Some statistical operations\n",
      "\n",
      "  6-Display count of unique value for all Used columns & Show The Unique Value\n",
      "\n",
      "  7-Add formula to Split date col To Display Unique Years\n",
      "\n",
      "  8-Display The most common category\n",
      "\n",
      "  9-Display The most common Sub category\n",
      "\n",
      "  10-Display The most Common City\n",
      "\n",
      "  11-Display The Highest Demand Product Name\n",
      "\n",
      "  12-Display The Total Sales\n",
      "\n",
      "  13-Display The most common Customer Segment\n",
      "\n",
      "  14-Display The most common Ship Mode\n",
      "\n"
     ]
    }
   ],
   "source": [
    "#Applied Steps\n",
    "print('--'*30,'****APPLIED STEPS****','--'*30)\n",
    "print('  1-Explore Data Frame Using Pandas\\n')\n",
    "print('  2-Display the dataset information\\n')\n",
    "print('  3-Display the number of missing values for each column(Check Null Values)--->Postal Code Only 11 Null (Unused Col)\\n')\n",
    "print('  4-Display duplicate values(Check For Dublicates)----> No Dublicates Found\\n')\n",
    "print('  5-Display Some statistical operations\\n')\n",
    "print('  6-Display count of unique value for all Used columns & Show The Unique Value\\n')\n",
    "print('  7-Add formula to Split date col To Display Unique Years\\n')\n",
    "print('  8-Display The most common category\\n')\n",
    "print('  9-Display The most common Sub category\\n')\n",
    "print('  10-Display The most Common City\\n')\n",
    "print('  11-Display The Highest Demand Product Name\\n')\n",
    "print('  12-Display The Total Sales\\n')\n",
    "print('  13-Display The most common Customer Segment\\n')\n",
    "print('  14-Display The most common Ship Mode\\n')"
   ]
  },
  {
   "cell_type": "code",
   "execution_count": 34,
   "metadata": {
    "colab": {
     "base_uri": "https://localhost:8080/"
    },
    "executionInfo": {
     "elapsed": 357,
     "status": "ok",
     "timestamp": 1728645250408,
     "user": {
      "displayName": "Omar Abdullah",
      "userId": "03445466138673685278"
     },
     "user_tz": -180
    },
    "id": "ZnD_Wy5B9rlE",
    "outputId": "feadbaf4-ced9-43d6-a948-77902bd4d9fe",
    "scrolled": true
   },
   "outputs": [
    {
     "name": "stdout",
     "output_type": "stream",
     "text": [
      "------------------------------------------------------------ ****STEPS TO BE DONE**** ------------------------------------------------------------\n",
      "  1-Remove Postal Code Col **Unused col** *Nour + Emad* \n",
      "\n",
      "  2- After Convert --Order date & Ship Date-- to Date Format ** Add Diff Between Order Date & Ship Date As Ship Time  *Nour + Emad*\n",
      "\n",
      "  3-Split the column *Order Date* Into (Years-Months-Quarters) Then Add To Original Data Frame *Nour + Emad* \n",
      "\n",
      "  4-Convert Sales Column astype Integer *Nour + Emad* \n",
      " \n",
      "  5-On Exploring Data Show Values In Thousand or Millions like This >>> (245987 ---> 246K )-----(2140598----> 2.14M ) *Omar Abdallah + Visualization Team* \n",
      "\n",
      "  6-Asking More Detaild Exploration Questions Then Graph It *Omar Abdallah* \n",
      "\n",
      "  7-Asking More Detaild analytical Questions *All Team * Then Graph It *Omar Nasr + Muhamed Sayed* \n",
      "\n",
      "--------------- ****All Team Membre Must Document Their Work**** ---------------\n",
      "------------------------------------------------------------------------------------------------------------------------\n",
      "------------------------------------------------------------------------------------------------------------------------\n",
      ">>>Note<<< :\n",
      "  We Have 1861 Product Id With 1849 Product Name --Seems To Be Proplem--\n",
      "\n",
      "---------------------------------------- ***End Of Ahmed Matter Part*** ----------------------------------------\n"
     ]
    }
   ],
   "source": [
    "#Some steps to be done\n",
    "print('--'*30,'****STEPS TO BE DONE****','--'*30)\n",
    "print('  1-Remove Postal Code Col **Unused col** *Nour + Emad* \\n')\n",
    "print('  2- After Convert --Order date & Ship Date-- to Date Format ** Add Diff Between Order Date & Ship Date As Ship Time  *Nour + Emad*\\n')\n",
    "print('  3-Split the column *Order Date* Into (Years-Months-Quarters) Then Add To Original Data Frame *Nour + Emad* \\n')\n",
    "print('  4-Convert Sales Column astype Integer *Nour + Emad* \\n ')\n",
    "print('  5-On Exploring Data Show Values In Thousand or Millions like This >>> (245987 ---> 246K )-----(2140598----> 2.14M ) *Omar Abdallah + Visualization Team* \\n')\n",
    "print('  6-Asking More Detaild Exploration Questions Then Graph It *Omar Abdallah* \\n')\n",
    "print('  7-Asking More Detaild analytical Questions *All Team * Then Graph It *Omar Nasr + Muhamed Sayed* \\n')\n",
    "print('-'*15,'****All Team Membre Must Document Their Work****','-'*15)\n",
    "print(\"--\"*60)\n",
    "print(\"--\"*60)\n",
    "print('>>>Note<<< :\\n ','We Have', uni_prodid, 'Product Id With', uni_prodnam,'Product Name','--Seems To Be Proplem--\\n')\n",
    "print(\"--\"*20,'***End Of Ahmed Matter Part***',\"--\"*20)"
   ]
  }
 ],
 "metadata": {
  "colab": {
   "provenance": []
  },
  "kernelspec": {
   "display_name": "Python 3 (ipykernel)",
   "language": "python",
   "name": "python3"
  },
  "language_info": {
   "codemirror_mode": {
    "name": "ipython",
    "version": 3
   },
   "file_extension": ".py",
   "mimetype": "text/x-python",
   "name": "python",
   "nbconvert_exporter": "python",
   "pygments_lexer": "ipython3",
   "version": "3.12.6"
  },
  "widgets": {
   "application/vnd.jupyter.widget-state+json": {
    "01297ebf31554dda90ce7db4ea386bcb": {
     "model_module": "@jupyter-widgets/controls",
     "model_module_version": "1.5.0",
     "model_name": "HTMLModel",
     "state": {
      "_dom_classes": [],
      "_model_module": "@jupyter-widgets/controls",
      "_model_module_version": "1.5.0",
      "_model_name": "HTMLModel",
      "_view_count": null,
      "_view_module": "@jupyter-widgets/controls",
      "_view_module_version": "1.5.0",
      "_view_name": "HTMLView",
      "description": "",
      "description_tooltip": null,
      "layout": "IPY_MODEL_522f2a7dc0a04b37bbe3b249e883bde4",
      "placeholder": "​",
      "style": "IPY_MODEL_541843f887024558a22c464b7f034750",
      "value": " 1/1 [00:20&lt;00:00, 20.58s/it]"
     }
    },
    "097db1e742da496db5ce25792c755321": {
     "model_module": "@jupyter-widgets/controls",
     "model_module_version": "1.5.0",
     "model_name": "HBoxModel",
     "state": {
      "_dom_classes": [],
      "_model_module": "@jupyter-widgets/controls",
      "_model_module_version": "1.5.0",
      "_model_name": "HBoxModel",
      "_view_count": null,
      "_view_module": "@jupyter-widgets/controls",
      "_view_module_version": "1.5.0",
      "_view_name": "HBoxView",
      "box_style": "",
      "children": [
       "IPY_MODEL_3c9482de69a644f6a8ae6c6b8e776488",
       "IPY_MODEL_d3f107b1418d4285bbcf19ae87bd91ac",
       "IPY_MODEL_51729a6da6f74e609da6cede6f7494b1"
      ],
      "layout": "IPY_MODEL_29e1fa7262254f578c73b6d160fff69f"
     }
    },
    "13efed5429a94a4c8a70779f34447ab3": {
     "model_module": "@jupyter-widgets/controls",
     "model_module_version": "1.5.0",
     "model_name": "ProgressStyleModel",
     "state": {
      "_model_module": "@jupyter-widgets/controls",
      "_model_module_version": "1.5.0",
      "_model_name": "ProgressStyleModel",
      "_view_count": null,
      "_view_module": "@jupyter-widgets/base",
      "_view_module_version": "1.2.0",
      "_view_name": "StyleView",
      "bar_color": null,
      "description_width": ""
     }
    },
    "1640de6d2fda42ab9eb2aed93706a279": {
     "model_module": "@jupyter-widgets/base",
     "model_module_version": "1.2.0",
     "model_name": "LayoutModel",
     "state": {
      "_model_module": "@jupyter-widgets/base",
      "_model_module_version": "1.2.0",
      "_model_name": "LayoutModel",
      "_view_count": null,
      "_view_module": "@jupyter-widgets/base",
      "_view_module_version": "1.2.0",
      "_view_name": "LayoutView",
      "align_content": null,
      "align_items": null,
      "align_self": null,
      "border": null,
      "bottom": null,
      "display": null,
      "flex": null,
      "flex_flow": null,
      "grid_area": null,
      "grid_auto_columns": null,
      "grid_auto_flow": null,
      "grid_auto_rows": null,
      "grid_column": null,
      "grid_gap": null,
      "grid_row": null,
      "grid_template_areas": null,
      "grid_template_columns": null,
      "grid_template_rows": null,
      "height": null,
      "justify_content": null,
      "justify_items": null,
      "left": null,
      "margin": null,
      "max_height": null,
      "max_width": null,
      "min_height": null,
      "min_width": null,
      "object_fit": null,
      "object_position": null,
      "order": null,
      "overflow": null,
      "overflow_x": null,
      "overflow_y": null,
      "padding": null,
      "right": null,
      "top": null,
      "visibility": null,
      "width": null
     }
    },
    "1d804683f6a547b28091619414807474": {
     "model_module": "@jupyter-widgets/base",
     "model_module_version": "1.2.0",
     "model_name": "LayoutModel",
     "state": {
      "_model_module": "@jupyter-widgets/base",
      "_model_module_version": "1.2.0",
      "_model_name": "LayoutModel",
      "_view_count": null,
      "_view_module": "@jupyter-widgets/base",
      "_view_module_version": "1.2.0",
      "_view_name": "LayoutView",
      "align_content": null,
      "align_items": null,
      "align_self": null,
      "border": null,
      "bottom": null,
      "display": null,
      "flex": null,
      "flex_flow": null,
      "grid_area": null,
      "grid_auto_columns": null,
      "grid_auto_flow": null,
      "grid_auto_rows": null,
      "grid_column": null,
      "grid_gap": null,
      "grid_row": null,
      "grid_template_areas": null,
      "grid_template_columns": null,
      "grid_template_rows": null,
      "height": null,
      "justify_content": null,
      "justify_items": null,
      "left": null,
      "margin": null,
      "max_height": null,
      "max_width": null,
      "min_height": null,
      "min_width": null,
      "object_fit": null,
      "object_position": null,
      "order": null,
      "overflow": null,
      "overflow_x": null,
      "overflow_y": null,
      "padding": null,
      "right": null,
      "top": null,
      "visibility": null,
      "width": null
     }
    },
    "23576a834bf345bd812856718356d5c4": {
     "model_module": "@jupyter-widgets/controls",
     "model_module_version": "1.5.0",
     "model_name": "HTMLModel",
     "state": {
      "_dom_classes": [],
      "_model_module": "@jupyter-widgets/controls",
      "_model_module_version": "1.5.0",
      "_model_name": "HTMLModel",
      "_view_count": null,
      "_view_module": "@jupyter-widgets/controls",
      "_view_module_version": "1.5.0",
      "_view_name": "HTMLView",
      "description": "",
      "description_tooltip": null,
      "layout": "IPY_MODEL_1d804683f6a547b28091619414807474",
      "placeholder": "​",
      "style": "IPY_MODEL_c63fecf7250d4407b7894a68d0741a1c",
      "value": "Generate report structure: 100%"
     }
    },
    "29e1fa7262254f578c73b6d160fff69f": {
     "model_module": "@jupyter-widgets/base",
     "model_module_version": "1.2.0",
     "model_name": "LayoutModel",
     "state": {
      "_model_module": "@jupyter-widgets/base",
      "_model_module_version": "1.2.0",
      "_model_name": "LayoutModel",
      "_view_count": null,
      "_view_module": "@jupyter-widgets/base",
      "_view_module_version": "1.2.0",
      "_view_name": "LayoutView",
      "align_content": null,
      "align_items": null,
      "align_self": null,
      "border": null,
      "bottom": null,
      "display": null,
      "flex": null,
      "flex_flow": null,
      "grid_area": null,
      "grid_auto_columns": null,
      "grid_auto_flow": null,
      "grid_auto_rows": null,
      "grid_column": null,
      "grid_gap": null,
      "grid_row": null,
      "grid_template_areas": null,
      "grid_template_columns": null,
      "grid_template_rows": null,
      "height": null,
      "justify_content": null,
      "justify_items": null,
      "left": null,
      "margin": null,
      "max_height": null,
      "max_width": null,
      "min_height": null,
      "min_width": null,
      "object_fit": null,
      "object_position": null,
      "order": null,
      "overflow": null,
      "overflow_x": null,
      "overflow_y": null,
      "padding": null,
      "right": null,
      "top": null,
      "visibility": null,
      "width": null
     }
    },
    "3b227511f1f847d4bee0ff91ffe537ff": {
     "model_module": "@jupyter-widgets/controls",
     "model_module_version": "1.5.0",
     "model_name": "DescriptionStyleModel",
     "state": {
      "_model_module": "@jupyter-widgets/controls",
      "_model_module_version": "1.5.0",
      "_model_name": "DescriptionStyleModel",
      "_view_count": null,
      "_view_module": "@jupyter-widgets/base",
      "_view_module_version": "1.2.0",
      "_view_name": "StyleView",
      "description_width": ""
     }
    },
    "3c9482de69a644f6a8ae6c6b8e776488": {
     "model_module": "@jupyter-widgets/controls",
     "model_module_version": "1.5.0",
     "model_name": "HTMLModel",
     "state": {
      "_dom_classes": [],
      "_model_module": "@jupyter-widgets/controls",
      "_model_module_version": "1.5.0",
      "_model_name": "HTMLModel",
      "_view_count": null,
      "_view_module": "@jupyter-widgets/controls",
      "_view_module_version": "1.5.0",
      "_view_name": "HTMLView",
      "description": "",
      "description_tooltip": null,
      "layout": "IPY_MODEL_bbca8bdf641d4e93887e0664ec2f4366",
      "placeholder": "​",
      "style": "IPY_MODEL_f7fdb42fcdfc44c3b68b6908599fb15d",
      "value": "Render HTML: 100%"
     }
    },
    "3e10af06fa7d44cca14cd01fbbb28bff": {
     "model_module": "@jupyter-widgets/controls",
     "model_module_version": "1.5.0",
     "model_name": "DescriptionStyleModel",
     "state": {
      "_model_module": "@jupyter-widgets/controls",
      "_model_module_version": "1.5.0",
      "_model_name": "DescriptionStyleModel",
      "_view_count": null,
      "_view_module": "@jupyter-widgets/base",
      "_view_module_version": "1.2.0",
      "_view_name": "StyleView",
      "description_width": ""
     }
    },
    "4b9d1a9dc8e94eef97bd9a86936a8506": {
     "model_module": "@jupyter-widgets/controls",
     "model_module_version": "1.5.0",
     "model_name": "DescriptionStyleModel",
     "state": {
      "_model_module": "@jupyter-widgets/controls",
      "_model_module_version": "1.5.0",
      "_model_name": "DescriptionStyleModel",
      "_view_count": null,
      "_view_module": "@jupyter-widgets/base",
      "_view_module_version": "1.2.0",
      "_view_name": "StyleView",
      "description_width": ""
     }
    },
    "4c96f058d56642ecaf4f52106d1d4a95": {
     "model_module": "@jupyter-widgets/base",
     "model_module_version": "1.2.0",
     "model_name": "LayoutModel",
     "state": {
      "_model_module": "@jupyter-widgets/base",
      "_model_module_version": "1.2.0",
      "_model_name": "LayoutModel",
      "_view_count": null,
      "_view_module": "@jupyter-widgets/base",
      "_view_module_version": "1.2.0",
      "_view_name": "LayoutView",
      "align_content": null,
      "align_items": null,
      "align_self": null,
      "border": null,
      "bottom": null,
      "display": null,
      "flex": null,
      "flex_flow": null,
      "grid_area": null,
      "grid_auto_columns": null,
      "grid_auto_flow": null,
      "grid_auto_rows": null,
      "grid_column": null,
      "grid_gap": null,
      "grid_row": null,
      "grid_template_areas": null,
      "grid_template_columns": null,
      "grid_template_rows": null,
      "height": null,
      "justify_content": null,
      "justify_items": null,
      "left": null,
      "margin": null,
      "max_height": null,
      "max_width": null,
      "min_height": null,
      "min_width": null,
      "object_fit": null,
      "object_position": null,
      "order": null,
      "overflow": null,
      "overflow_x": null,
      "overflow_y": null,
      "padding": null,
      "right": null,
      "top": null,
      "visibility": null,
      "width": null
     }
    },
    "51729a6da6f74e609da6cede6f7494b1": {
     "model_module": "@jupyter-widgets/controls",
     "model_module_version": "1.5.0",
     "model_name": "HTMLModel",
     "state": {
      "_dom_classes": [],
      "_model_module": "@jupyter-widgets/controls",
      "_model_module_version": "1.5.0",
      "_model_name": "HTMLModel",
      "_view_count": null,
      "_view_module": "@jupyter-widgets/controls",
      "_view_module_version": "1.5.0",
      "_view_name": "HTMLView",
      "description": "",
      "description_tooltip": null,
      "layout": "IPY_MODEL_93fe14b6204c4feb9b715d0bd31251de",
      "placeholder": "​",
      "style": "IPY_MODEL_4b9d1a9dc8e94eef97bd9a86936a8506",
      "value": " 1/1 [00:01&lt;00:00,  1.33s/it]"
     }
    },
    "522f2a7dc0a04b37bbe3b249e883bde4": {
     "model_module": "@jupyter-widgets/base",
     "model_module_version": "1.2.0",
     "model_name": "LayoutModel",
     "state": {
      "_model_module": "@jupyter-widgets/base",
      "_model_module_version": "1.2.0",
      "_model_name": "LayoutModel",
      "_view_count": null,
      "_view_module": "@jupyter-widgets/base",
      "_view_module_version": "1.2.0",
      "_view_name": "LayoutView",
      "align_content": null,
      "align_items": null,
      "align_self": null,
      "border": null,
      "bottom": null,
      "display": null,
      "flex": null,
      "flex_flow": null,
      "grid_area": null,
      "grid_auto_columns": null,
      "grid_auto_flow": null,
      "grid_auto_rows": null,
      "grid_column": null,
      "grid_gap": null,
      "grid_row": null,
      "grid_template_areas": null,
      "grid_template_columns": null,
      "grid_template_rows": null,
      "height": null,
      "justify_content": null,
      "justify_items": null,
      "left": null,
      "margin": null,
      "max_height": null,
      "max_width": null,
      "min_height": null,
      "min_width": null,
      "object_fit": null,
      "object_position": null,
      "order": null,
      "overflow": null,
      "overflow_x": null,
      "overflow_y": null,
      "padding": null,
      "right": null,
      "top": null,
      "visibility": null,
      "width": null
     }
    },
    "541843f887024558a22c464b7f034750": {
     "model_module": "@jupyter-widgets/controls",
     "model_module_version": "1.5.0",
     "model_name": "DescriptionStyleModel",
     "state": {
      "_model_module": "@jupyter-widgets/controls",
      "_model_module_version": "1.5.0",
      "_model_name": "DescriptionStyleModel",
      "_view_count": null,
      "_view_module": "@jupyter-widgets/base",
      "_view_module_version": "1.2.0",
      "_view_name": "StyleView",
      "description_width": ""
     }
    },
    "71d1f31f67f648c39743d63b40abba0d": {
     "model_module": "@jupyter-widgets/controls",
     "model_module_version": "1.5.0",
     "model_name": "ProgressStyleModel",
     "state": {
      "_model_module": "@jupyter-widgets/controls",
      "_model_module_version": "1.5.0",
      "_model_name": "ProgressStyleModel",
      "_view_count": null,
      "_view_module": "@jupyter-widgets/base",
      "_view_module_version": "1.2.0",
      "_view_name": "StyleView",
      "bar_color": null,
      "description_width": ""
     }
    },
    "73e3ab68a1a14ecebe0c9679249c1f62": {
     "model_module": "@jupyter-widgets/controls",
     "model_module_version": "1.5.0",
     "model_name": "HTMLModel",
     "state": {
      "_dom_classes": [],
      "_model_module": "@jupyter-widgets/controls",
      "_model_module_version": "1.5.0",
      "_model_name": "HTMLModel",
      "_view_count": null,
      "_view_module": "@jupyter-widgets/controls",
      "_view_module_version": "1.5.0",
      "_view_name": "HTMLView",
      "description": "",
      "description_tooltip": null,
      "layout": "IPY_MODEL_7fc781eaeda741f6a12e7a9fb0abc8de",
      "placeholder": "​",
      "style": "IPY_MODEL_3b227511f1f847d4bee0ff91ffe537ff",
      "value": " 36/36 [00:10&lt;00:00,  1.15s/it, Completed]"
     }
    },
    "77e00e634db94f1daf25c50f73590c2e": {
     "model_module": "@jupyter-widgets/controls",
     "model_module_version": "1.5.0",
     "model_name": "ProgressStyleModel",
     "state": {
      "_model_module": "@jupyter-widgets/controls",
      "_model_module_version": "1.5.0",
      "_model_name": "ProgressStyleModel",
      "_view_count": null,
      "_view_module": "@jupyter-widgets/base",
      "_view_module_version": "1.2.0",
      "_view_name": "StyleView",
      "bar_color": null,
      "description_width": ""
     }
    },
    "78f78c8f627a41f18aa2eb45d48e17ca": {
     "model_module": "@jupyter-widgets/base",
     "model_module_version": "1.2.0",
     "model_name": "LayoutModel",
     "state": {
      "_model_module": "@jupyter-widgets/base",
      "_model_module_version": "1.2.0",
      "_model_name": "LayoutModel",
      "_view_count": null,
      "_view_module": "@jupyter-widgets/base",
      "_view_module_version": "1.2.0",
      "_view_name": "LayoutView",
      "align_content": null,
      "align_items": null,
      "align_self": null,
      "border": null,
      "bottom": null,
      "display": null,
      "flex": null,
      "flex_flow": null,
      "grid_area": null,
      "grid_auto_columns": null,
      "grid_auto_flow": null,
      "grid_auto_rows": null,
      "grid_column": null,
      "grid_gap": null,
      "grid_row": null,
      "grid_template_areas": null,
      "grid_template_columns": null,
      "grid_template_rows": null,
      "height": null,
      "justify_content": null,
      "justify_items": null,
      "left": null,
      "margin": null,
      "max_height": null,
      "max_width": null,
      "min_height": null,
      "min_width": null,
      "object_fit": null,
      "object_position": null,
      "order": null,
      "overflow": null,
      "overflow_x": null,
      "overflow_y": null,
      "padding": null,
      "right": null,
      "top": null,
      "visibility": null,
      "width": null
     }
    },
    "7fc781eaeda741f6a12e7a9fb0abc8de": {
     "model_module": "@jupyter-widgets/base",
     "model_module_version": "1.2.0",
     "model_name": "LayoutModel",
     "state": {
      "_model_module": "@jupyter-widgets/base",
      "_model_module_version": "1.2.0",
      "_model_name": "LayoutModel",
      "_view_count": null,
      "_view_module": "@jupyter-widgets/base",
      "_view_module_version": "1.2.0",
      "_view_name": "LayoutView",
      "align_content": null,
      "align_items": null,
      "align_self": null,
      "border": null,
      "bottom": null,
      "display": null,
      "flex": null,
      "flex_flow": null,
      "grid_area": null,
      "grid_auto_columns": null,
      "grid_auto_flow": null,
      "grid_auto_rows": null,
      "grid_column": null,
      "grid_gap": null,
      "grid_row": null,
      "grid_template_areas": null,
      "grid_template_columns": null,
      "grid_template_rows": null,
      "height": null,
      "justify_content": null,
      "justify_items": null,
      "left": null,
      "margin": null,
      "max_height": null,
      "max_width": null,
      "min_height": null,
      "min_width": null,
      "object_fit": null,
      "object_position": null,
      "order": null,
      "overflow": null,
      "overflow_x": null,
      "overflow_y": null,
      "padding": null,
      "right": null,
      "top": null,
      "visibility": null,
      "width": null
     }
    },
    "93fe14b6204c4feb9b715d0bd31251de": {
     "model_module": "@jupyter-widgets/base",
     "model_module_version": "1.2.0",
     "model_name": "LayoutModel",
     "state": {
      "_model_module": "@jupyter-widgets/base",
      "_model_module_version": "1.2.0",
      "_model_name": "LayoutModel",
      "_view_count": null,
      "_view_module": "@jupyter-widgets/base",
      "_view_module_version": "1.2.0",
      "_view_name": "LayoutView",
      "align_content": null,
      "align_items": null,
      "align_self": null,
      "border": null,
      "bottom": null,
      "display": null,
      "flex": null,
      "flex_flow": null,
      "grid_area": null,
      "grid_auto_columns": null,
      "grid_auto_flow": null,
      "grid_auto_rows": null,
      "grid_column": null,
      "grid_gap": null,
      "grid_row": null,
      "grid_template_areas": null,
      "grid_template_columns": null,
      "grid_template_rows": null,
      "height": null,
      "justify_content": null,
      "justify_items": null,
      "left": null,
      "margin": null,
      "max_height": null,
      "max_width": null,
      "min_height": null,
      "min_width": null,
      "object_fit": null,
      "object_position": null,
      "order": null,
      "overflow": null,
      "overflow_x": null,
      "overflow_y": null,
      "padding": null,
      "right": null,
      "top": null,
      "visibility": null,
      "width": null
     }
    },
    "b2ddce6893f04a87a60d829258953069": {
     "model_module": "@jupyter-widgets/base",
     "model_module_version": "1.2.0",
     "model_name": "LayoutModel",
     "state": {
      "_model_module": "@jupyter-widgets/base",
      "_model_module_version": "1.2.0",
      "_model_name": "LayoutModel",
      "_view_count": null,
      "_view_module": "@jupyter-widgets/base",
      "_view_module_version": "1.2.0",
      "_view_name": "LayoutView",
      "align_content": null,
      "align_items": null,
      "align_self": null,
      "border": null,
      "bottom": null,
      "display": null,
      "flex": null,
      "flex_flow": null,
      "grid_area": null,
      "grid_auto_columns": null,
      "grid_auto_flow": null,
      "grid_auto_rows": null,
      "grid_column": null,
      "grid_gap": null,
      "grid_row": null,
      "grid_template_areas": null,
      "grid_template_columns": null,
      "grid_template_rows": null,
      "height": null,
      "justify_content": null,
      "justify_items": null,
      "left": null,
      "margin": null,
      "max_height": null,
      "max_width": null,
      "min_height": null,
      "min_width": null,
      "object_fit": null,
      "object_position": null,
      "order": null,
      "overflow": null,
      "overflow_x": null,
      "overflow_y": null,
      "padding": null,
      "right": null,
      "top": null,
      "visibility": null,
      "width": null
     }
    },
    "bbca8bdf641d4e93887e0664ec2f4366": {
     "model_module": "@jupyter-widgets/base",
     "model_module_version": "1.2.0",
     "model_name": "LayoutModel",
     "state": {
      "_model_module": "@jupyter-widgets/base",
      "_model_module_version": "1.2.0",
      "_model_name": "LayoutModel",
      "_view_count": null,
      "_view_module": "@jupyter-widgets/base",
      "_view_module_version": "1.2.0",
      "_view_name": "LayoutView",
      "align_content": null,
      "align_items": null,
      "align_self": null,
      "border": null,
      "bottom": null,
      "display": null,
      "flex": null,
      "flex_flow": null,
      "grid_area": null,
      "grid_auto_columns": null,
      "grid_auto_flow": null,
      "grid_auto_rows": null,
      "grid_column": null,
      "grid_gap": null,
      "grid_row": null,
      "grid_template_areas": null,
      "grid_template_columns": null,
      "grid_template_rows": null,
      "height": null,
      "justify_content": null,
      "justify_items": null,
      "left": null,
      "margin": null,
      "max_height": null,
      "max_width": null,
      "min_height": null,
      "min_width": null,
      "object_fit": null,
      "object_position": null,
      "order": null,
      "overflow": null,
      "overflow_x": null,
      "overflow_y": null,
      "padding": null,
      "right": null,
      "top": null,
      "visibility": null,
      "width": null
     }
    },
    "be2cabf2aea4440a9a621fc94d1486d8": {
     "model_module": "@jupyter-widgets/controls",
     "model_module_version": "1.5.0",
     "model_name": "FloatProgressModel",
     "state": {
      "_dom_classes": [],
      "_model_module": "@jupyter-widgets/controls",
      "_model_module_version": "1.5.0",
      "_model_name": "FloatProgressModel",
      "_view_count": null,
      "_view_module": "@jupyter-widgets/controls",
      "_view_module_version": "1.5.0",
      "_view_name": "ProgressView",
      "bar_style": "success",
      "description": "",
      "description_tooltip": null,
      "layout": "IPY_MODEL_78f78c8f627a41f18aa2eb45d48e17ca",
      "max": 1,
      "min": 0,
      "orientation": "horizontal",
      "style": "IPY_MODEL_13efed5429a94a4c8a70779f34447ab3",
      "value": 1
     }
    },
    "c3359e29846741e8a0cee6ac419dbc62": {
     "model_module": "@jupyter-widgets/controls",
     "model_module_version": "1.5.0",
     "model_name": "HBoxModel",
     "state": {
      "_dom_classes": [],
      "_model_module": "@jupyter-widgets/controls",
      "_model_module_version": "1.5.0",
      "_model_name": "HBoxModel",
      "_view_count": null,
      "_view_module": "@jupyter-widgets/controls",
      "_view_module_version": "1.5.0",
      "_view_name": "HBoxView",
      "box_style": "",
      "children": [
       "IPY_MODEL_23576a834bf345bd812856718356d5c4",
       "IPY_MODEL_be2cabf2aea4440a9a621fc94d1486d8",
       "IPY_MODEL_01297ebf31554dda90ce7db4ea386bcb"
      ],
      "layout": "IPY_MODEL_4c96f058d56642ecaf4f52106d1d4a95"
     }
    },
    "c63fecf7250d4407b7894a68d0741a1c": {
     "model_module": "@jupyter-widgets/controls",
     "model_module_version": "1.5.0",
     "model_name": "DescriptionStyleModel",
     "state": {
      "_model_module": "@jupyter-widgets/controls",
      "_model_module_version": "1.5.0",
      "_model_name": "DescriptionStyleModel",
      "_view_count": null,
      "_view_module": "@jupyter-widgets/base",
      "_view_module_version": "1.2.0",
      "_view_name": "StyleView",
      "description_width": ""
     }
    },
    "c7c55175bfe9494481ea37c9251db160": {
     "model_module": "@jupyter-widgets/base",
     "model_module_version": "1.2.0",
     "model_name": "LayoutModel",
     "state": {
      "_model_module": "@jupyter-widgets/base",
      "_model_module_version": "1.2.0",
      "_model_name": "LayoutModel",
      "_view_count": null,
      "_view_module": "@jupyter-widgets/base",
      "_view_module_version": "1.2.0",
      "_view_name": "LayoutView",
      "align_content": null,
      "align_items": null,
      "align_self": null,
      "border": null,
      "bottom": null,
      "display": null,
      "flex": null,
      "flex_flow": null,
      "grid_area": null,
      "grid_auto_columns": null,
      "grid_auto_flow": null,
      "grid_auto_rows": null,
      "grid_column": null,
      "grid_gap": null,
      "grid_row": null,
      "grid_template_areas": null,
      "grid_template_columns": null,
      "grid_template_rows": null,
      "height": null,
      "justify_content": null,
      "justify_items": null,
      "left": null,
      "margin": null,
      "max_height": null,
      "max_width": null,
      "min_height": null,
      "min_width": null,
      "object_fit": null,
      "object_position": null,
      "order": null,
      "overflow": null,
      "overflow_x": null,
      "overflow_y": null,
      "padding": null,
      "right": null,
      "top": null,
      "visibility": null,
      "width": null
     }
    },
    "cb535a61e33c4128b0145cb303a0e905": {
     "model_module": "@jupyter-widgets/base",
     "model_module_version": "1.2.0",
     "model_name": "LayoutModel",
     "state": {
      "_model_module": "@jupyter-widgets/base",
      "_model_module_version": "1.2.0",
      "_model_name": "LayoutModel",
      "_view_count": null,
      "_view_module": "@jupyter-widgets/base",
      "_view_module_version": "1.2.0",
      "_view_name": "LayoutView",
      "align_content": null,
      "align_items": null,
      "align_self": null,
      "border": null,
      "bottom": null,
      "display": null,
      "flex": null,
      "flex_flow": null,
      "grid_area": null,
      "grid_auto_columns": null,
      "grid_auto_flow": null,
      "grid_auto_rows": null,
      "grid_column": null,
      "grid_gap": null,
      "grid_row": null,
      "grid_template_areas": null,
      "grid_template_columns": null,
      "grid_template_rows": null,
      "height": null,
      "justify_content": null,
      "justify_items": null,
      "left": null,
      "margin": null,
      "max_height": null,
      "max_width": null,
      "min_height": null,
      "min_width": null,
      "object_fit": null,
      "object_position": null,
      "order": null,
      "overflow": null,
      "overflow_x": null,
      "overflow_y": null,
      "padding": null,
      "right": null,
      "top": null,
      "visibility": null,
      "width": null
     }
    },
    "d3f107b1418d4285bbcf19ae87bd91ac": {
     "model_module": "@jupyter-widgets/controls",
     "model_module_version": "1.5.0",
     "model_name": "FloatProgressModel",
     "state": {
      "_dom_classes": [],
      "_model_module": "@jupyter-widgets/controls",
      "_model_module_version": "1.5.0",
      "_model_name": "FloatProgressModel",
      "_view_count": null,
      "_view_module": "@jupyter-widgets/controls",
      "_view_module_version": "1.5.0",
      "_view_name": "ProgressView",
      "bar_style": "success",
      "description": "",
      "description_tooltip": null,
      "layout": "IPY_MODEL_b2ddce6893f04a87a60d829258953069",
      "max": 1,
      "min": 0,
      "orientation": "horizontal",
      "style": "IPY_MODEL_77e00e634db94f1daf25c50f73590c2e",
      "value": 1
     }
    },
    "dc5fb0ff550d4d40be5c4dba33b19277": {
     "model_module": "@jupyter-widgets/controls",
     "model_module_version": "1.5.0",
     "model_name": "FloatProgressModel",
     "state": {
      "_dom_classes": [],
      "_model_module": "@jupyter-widgets/controls",
      "_model_module_version": "1.5.0",
      "_model_name": "FloatProgressModel",
      "_view_count": null,
      "_view_module": "@jupyter-widgets/controls",
      "_view_module_version": "1.5.0",
      "_view_name": "ProgressView",
      "bar_style": "success",
      "description": "",
      "description_tooltip": null,
      "layout": "IPY_MODEL_cb535a61e33c4128b0145cb303a0e905",
      "max": 5,
      "min": 0,
      "orientation": "horizontal",
      "style": "IPY_MODEL_71d1f31f67f648c39743d63b40abba0d",
      "value": 5
     }
    },
    "e6788e7b86b2454cbf59610b0ea81847": {
     "model_module": "@jupyter-widgets/controls",
     "model_module_version": "1.5.0",
     "model_name": "HBoxModel",
     "state": {
      "_dom_classes": [],
      "_model_module": "@jupyter-widgets/controls",
      "_model_module_version": "1.5.0",
      "_model_name": "HBoxModel",
      "_view_count": null,
      "_view_module": "@jupyter-widgets/controls",
      "_view_module_version": "1.5.0",
      "_view_name": "HBoxView",
      "box_style": "",
      "children": [
       "IPY_MODEL_f538ee298c48482b887d03e11cecb049",
       "IPY_MODEL_dc5fb0ff550d4d40be5c4dba33b19277",
       "IPY_MODEL_73e3ab68a1a14ecebe0c9679249c1f62"
      ],
      "layout": "IPY_MODEL_1640de6d2fda42ab9eb2aed93706a279"
     }
    },
    "f538ee298c48482b887d03e11cecb049": {
     "model_module": "@jupyter-widgets/controls",
     "model_module_version": "1.5.0",
     "model_name": "HTMLModel",
     "state": {
      "_dom_classes": [],
      "_model_module": "@jupyter-widgets/controls",
      "_model_module_version": "1.5.0",
      "_model_name": "HTMLModel",
      "_view_count": null,
      "_view_module": "@jupyter-widgets/controls",
      "_view_module_version": "1.5.0",
      "_view_name": "HTMLView",
      "description": "",
      "description_tooltip": null,
      "layout": "IPY_MODEL_c7c55175bfe9494481ea37c9251db160",
      "placeholder": "​",
      "style": "IPY_MODEL_3e10af06fa7d44cca14cd01fbbb28bff",
      "value": "Summarize dataset: 100%"
     }
    },
    "f7fdb42fcdfc44c3b68b6908599fb15d": {
     "model_module": "@jupyter-widgets/controls",
     "model_module_version": "1.5.0",
     "model_name": "DescriptionStyleModel",
     "state": {
      "_model_module": "@jupyter-widgets/controls",
      "_model_module_version": "1.5.0",
      "_model_name": "DescriptionStyleModel",
      "_view_count": null,
      "_view_module": "@jupyter-widgets/base",
      "_view_module_version": "1.2.0",
      "_view_name": "StyleView",
      "description_width": ""
     }
    }
   }
  }
 },
 "nbformat": 4,
 "nbformat_minor": 4
}
